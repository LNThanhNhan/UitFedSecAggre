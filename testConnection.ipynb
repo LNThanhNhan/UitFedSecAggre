{
 "cells": [
  {
   "cell_type": "code",
   "execution_count": 2,
   "metadata": {},
   "outputs": [
    {
     "name": "stderr",
     "output_type": "stream",
     "text": [
      "D:\\Software\\Python\\lib\\site-packages\\web3\\__init__.py:2: UserWarning: pkg_resources is deprecated as an API. See https://setuptools.pypa.io/en/latest/pkg_resources.html. The pkg_resources package is slated for removal as early as 2025-11-30. Refrain from using this package or pin to Setuptools<81.\n",
      "  import pkg_resources\n"
     ]
    }
   ],
   "source": [
    "from web3 import Web3\n",
    "import json"
   ]
  },
  {
   "cell_type": "code",
   "execution_count": 3,
   "metadata": {},
   "outputs": [],
   "source": [
    "rpcServer = 'HTTP://127.0.0.1:7545'\n",
    "w3 = Web3(Web3.HTTPProvider(rpcServer))\n",
    "\n",
    "contributionSC = open('./Solidity/build/contracts/Reward.json')\n",
    "contributionData = json.load(contributionSC)\n",
    "contributionAbi = contributionData['abi']\n",
    "#addressContribution = contributionData['networks']['5777']['address']\n",
    "addressContribution = contributionData['networks']['5775']['address']\n",
    "contribution_contract_instance = w3.eth.contract(address=addressContribution, abi=contributionAbi)"
   ]
  },
  {
   "cell_type": "code",
   "execution_count": null,
   "metadata": {},
   "outputs": [],
   "source": [
    "#add all account balance 100\n",
    "for i in range(1, 9):\n",
    "    account = w3.eth.accounts[i]\n",
    "    contribution_contract_instance.functions.addBalance(account,100).transact({'from': w3.eth.accounts[0]})"
   ]
  },
  {
   "cell_type": "code",
   "execution_count": 4,
   "metadata": {},
   "outputs": [
    {
     "name": "stdout",
     "output_type": "stream",
     "text": [
      "0xbdCf8BFB7852B1f16feD736F00E8BC0Aa41D1D5e 0\n",
      "0xE83EcC8250D5a9fA1503dB325ba06f66921454a6 0\n",
      "0xaBDD9c5B2dd461F2FAEa0C327a6730591bda1373 0\n",
      "0x78B9dC6FfF19a297e77dd21aECAaB6A7D2740240 0\n",
      "0x452e50Aa5126b6EA795d9ABcF68d0c06A1d9B12a 0\n",
      "0x0D75D0c636275301DABDF50129c96729D149942C 0\n",
      "0x55C517976BEAA8eb35e6D72C916D1B50b0879E97 0\n",
      "0x040221102cFd1FCAA21ea43B0B65eC208819ee07 0\n"
     ]
    }
   ],
   "source": [
    "#check all account balance\n",
    "for i in range(1, 9):\n",
    "    account = w3.eth.accounts[i]\n",
    "    balance = contribution_contract_instance.functions.balanceOf(account).call()\n",
    "    print(account, balance)\n",
    "    "
   ]
  },
  {
   "cell_type": "code",
   "execution_count": 4,
   "metadata": {},
   "outputs": [
    {
     "data": {
      "text/plain": [
       "HexBytes('0xd1a43db0e9ee5e137becf2c0ef82bdd028c7543c0316dd0b2d651ba38e822471')"
      ]
     },
     "execution_count": 4,
     "metadata": {},
     "output_type": "execute_result"
    }
   ],
   "source": [
    "contribution_contract_instance.functions.addBalance(w3.eth.accounts[1],1000).transact({'from': w3.eth.accounts[0]})"
   ]
  },
  {
   "cell_type": "code",
   "execution_count": 16,
   "metadata": {},
   "outputs": [
    {
     "name": "stdout",
     "output_type": "stream",
     "text": [
      "2100\n"
     ]
    }
   ],
   "source": [
    "name=contribution_contract_instance.functions.balanceOf(w3.eth.accounts[1]).call()\n",
    "print(name)"
   ]
  },
  {
   "cell_type": "code",
   "execution_count": 4,
   "metadata": {},
   "outputs": [
    {
     "name": "stdout",
     "output_type": "stream",
     "text": [
      "0xae0a5a3Dbf8AB60f7B253514495f95C4574876d7\n",
      "2100\n"
     ]
    }
   ],
   "source": [
    "acc=w3.eth.account.from_key('0xd5ee1a861622cbbc27f6c2bb446c51067015692e03e0cbecddc07584a7676af6')\n",
    "print(acc.address)\n",
    "name=contribution_contract_instance.functions.balanceOf(acc.address).call()\n",
    "print(name)"
   ]
  },
  {
   "cell_type": "code",
   "execution_count": 6,
   "metadata": {},
   "outputs": [
    {
     "name": "stdout",
     "output_type": "stream",
     "text": [
      "2100\n"
     ]
    }
   ],
   "source": [
    "name=contribution_contract_instance.functions.balanceOf(\"0xae0a5a3Dbf8AB60f7B253514495f95C4574876d7\").call()\n",
    "print(name)"
   ]
  },
  {
   "cell_type": "code",
   "execution_count": 4,
   "metadata": {},
   "outputs": [
    {
     "name": "stdout",
     "output_type": "stream",
     "text": [
      "100\n"
     ]
    }
   ],
   "source": [
    "name=contribution_contract_instance.functions.balanceOf(\"0x75caF2D330F75ea4b5d0c76067a218E2f0b82992\").call()\n",
    "print(name)"
   ]
  },
  {
   "cell_type": "code",
   "execution_count": 5,
   "metadata": {},
   "outputs": [
    {
     "name": "stdout",
     "output_type": "stream",
     "text": [
      "True\n"
     ]
    }
   ],
   "source": [
    "print(w3.is_address(\"0xA09aF9Ef981aD1C6dEDA7D4C4f03bE548cD960ea\"))"
   ]
  },
  {
   "cell_type": "code",
   "execution_count": 5,
   "metadata": {},
   "outputs": [],
   "source": [
    "from UitFedSecAggre.vanilla_system.Solidity.reward_service import RewardService\n",
    "reward_service = RewardService()"
   ]
  },
  {
   "cell_type": "code",
   "execution_count": 6,
   "metadata": {},
   "outputs": [
    {
     "data": {
      "text/plain": [
       "130"
      ]
     },
     "execution_count": 6,
     "metadata": {},
     "output_type": "execute_result"
    }
   ],
   "source": [
    "#reward_service.pay(\"0x75caF2D330F75ea4b5d0c76067a218E2f0b82992\", 30)\n",
    "reward_service.getBalance('0x36D38F3533690B71e1Cc60C9dAbd3A3543813596')"
   ]
  },
  {
   "cell_type": "code",
   "execution_count": 8,
   "metadata": {},
   "outputs": [
    {
     "name": "stdout",
     "output_type": "stream",
     "text": [
      "0xae0a5a3Dbf8AB60f7B253514495f95C4574876d7 client1 6724\n",
      "0xE295e5D17dbae5FD80b4aBF64678aeA216a9D06d client2 4750\n",
      "0x67e408fCD53738c39a94220e911204f3c90A787D client3 8612\n",
      "0x4685B1D9c63717d7060ad689AF77Ba98dFc895E9 client4 4825\n",
      "0x36D38F3533690B71e1Cc60C9dAbd3A3543813596 client5 7229\n"
     ]
    }
   ],
   "source": [
    "#Kiểm tra số dư ban đầu của các client\n",
    "for i in range(1, 6):\n",
    "    account = w3.eth.accounts[i]\n",
    "    balance = contribution_contract_instance.functions.balanceOf(account).call()\n",
    "    print(account, f\"client{i}\", balance)"
   ]
  },
  {
   "cell_type": "code",
   "execution_count": 7,
   "metadata": {},
   "outputs": [
    {
     "name": "stdout",
     "output_type": "stream",
     "text": [
      "0xae0a5a3Dbf8AB60f7B253514495f95C4574876d7 client1 6724\n",
      "0xE295e5D17dbae5FD80b4aBF64678aeA216a9D06d client2 4750\n",
      "0x67e408fCD53738c39a94220e911204f3c90A787D client3 8612\n",
      "0x4685B1D9c63717d7060ad689AF77Ba98dFc895E9 client4 4825\n",
      "0x36D38F3533690B71e1Cc60C9dAbd3A3543813596 client5 7229\n"
     ]
    }
   ],
   "source": [
    "#Kiểm tra số dư lúc sau của các client\n",
    "for i in range(1, 6):\n",
    "    account = w3.eth.accounts[i]\n",
    "    balance = contribution_contract_instance.functions.balanceOf(account).call()\n",
    "    print(account, f\"client{i}\", balance)"
   ]
  },
  {
   "cell_type": "code",
   "execution_count": 2,
   "metadata": {},
   "outputs": [
    {
     "name": "stdout",
     "output_type": "stream",
     "text": [
      "deltaPositive: 1\n",
      "f1scoreDeltaLOO: [0.         0.05157195 0.08190061 0.14158897 1.        ]\n",
      "sumF1scoreDelta: 1.2750615291028482\n",
      "reward_scores_temp: [0.0, 3.235730851793762, 5.1386136025161, 8.883585320820945, 62.742070224869195]\n",
      "reward_scores: [4. 4. 4. 4. 4. 4. 4. 4. 4. 4.]\n",
      "sumPayoff: [4, 7, 9, 12, 66]\n",
      "sumPayoff: 98\n"
     ]
    }
   ],
   "source": [
    "from sklearn.preprocessing import MinMaxScaler\n",
    "import math\n",
    "import numpy as np\n",
    "amount = 500\n",
    "f1scoreDeltaLOO=[-0.08480286336060372, -0.0469214110889411, -0.06094931193456271, 0.3777267063826664, -0.01931377634944098]\n",
    "scaler=MinMaxScaler()\n",
    "#Kiểm tra xem số lượng delta âm có nhỏ hơn 5/2 không\n",
    "deltaPositive = len([i for i in f1scoreDeltaLOO if i > 0])\n",
    "print(f\"deltaPositive: {deltaPositive}\")\n",
    "#Minmax scaling\n",
    "#f1scoreDeltaLOO=scaler.fit_transform(np.array(f1scoreDeltaLOO).reshape(-1,1)).reshape(-1)\n",
    "f1scoreDeltaLOO=scaler.fit_transform(np.array(f1scoreDeltaLOO).reshape(-1,1)).reshape(-1)\n",
    "f1scoreDeltaLOO.sort()\n",
    "print(f\"f1scoreDeltaLOO: {f1scoreDeltaLOO}\")\n",
    "if len([s for s in f1scoreDeltaLOO if s < 0]) >= 5/2:\n",
    "    # Trung vị\n",
    "    #f1scoreDeltaLOO.sort()\n",
    "    median = np.median(f1scoreDeltaLOO)\n",
    "    for i in range(5):\n",
    "        # Nếu f1score của client i > median thì lấy tuyệt đối (để chút tính tiền chứ hiện tại đang âm)\n",
    "        # Ngược lại thì gán bằng 0 -> ko đc trả payoff\n",
    "        f1scoreDeltaLOO[i] = abs(f1scoreDeltaLOO[i]) if f1scoreDeltaLOO[i] > median else 0\n",
    "    print(f\"f1scoreDeltaLOO: {f1scoreDeltaLOO}\")\n",
    "\n",
    "sumF1scoreDelta = sum(f1scoreDeltaLOO)\n",
    "print(f\"sumF1scoreDelta: {sumF1scoreDelta}\")\n",
    "# Proof of performance (trả theo đóng góp - dựa trên delta)\n",
    "reward_scores_temp =   [(element / sumF1scoreDelta) * ( amount * 0.8 /5)  for element in f1scoreDeltaLOO]\n",
    "print(f\"reward_scores_temp: {reward_scores_temp}\")\n",
    "\n",
    "# Proof of work (đồng đều, ai cũng được tiền)\n",
    "reward_scores =  np.full(\n",
    "  shape=10,\n",
    "  fill_value=amount * 0.2 / 25,\n",
    "  dtype=np.float32\n",
    ")\n",
    "print(f\"reward_scores: {reward_scores}\")\n",
    "\n",
    "# Payoff of each client\n",
    "payoffByClient = [int(math.floor(x + y)) for x, y in zip(reward_scores_temp, reward_scores)]\n",
    "print(f\"sumPayoff: {payoffByClient}\")\n",
    "sumPayoff = sum(payoffByClient)\n",
    "print(f\"sumPayoff: {sumPayoff}\")"
   ]
  },
  {
   "cell_type": "code",
   "execution_count": 14,
   "metadata": {},
   "outputs": [
    {
     "name": "stdout",
     "output_type": "stream",
     "text": [
      "f1scoreDeltaLOO: {2: 0, 1: 0.0469214110889411}\n",
      "sumF1scoreDelta: 0.0469214110889411\n",
      "reward_scores_temp: [80.0, 0.0]\n",
      "reward_scores: [40. 40.]\n",
      "sumPayoff: [120, 40]\n",
      "sumPayoff: 160\n"
     ]
    }
   ],
   "source": [
    "from sklearn.preprocessing import MinMaxScaler\n",
    "import math\n",
    "import numpy as np\n",
    "amount = 500\n",
    "id=[2,1]\n",
    "value=[-0.08480286336060372, -0.0469214110889411]\n",
    "f1scoreDeltaLOO={id[i]:value[i] for i in range(len(id))}\n",
    "numClient = 2\n",
    "rounds = 5\n",
    "#sort f1scoreDeltaLOO theo value\n",
    "f1scoreDeltaLOO = dict(sorted(f1scoreDeltaLOO.items(), key=lambda item: item[1]))\n",
    "#if len([s for s in f1scoreDeltaLOO if s < 0]) >= 5/2:\n",
    "if len([s for s in f1scoreDeltaLOO.values() if s < 0]) >= numClient/2:\n",
    "    # Trung vị\n",
    "    median = np.median(list(f1scoreDeltaLOO.values()))\n",
    "    for i in f1scoreDeltaLOO:\n",
    "        # Nếu f1score của client i > median thì lấy tuyệt đối (để chút tính tiền chứ hiện tại đang âm)\n",
    "        # Ngược lại thì gán bằng 0 -> ko đc trả payoff\n",
    "        f1scoreDeltaLOO[i] = abs(f1scoreDeltaLOO[i]) if f1scoreDeltaLOO[i] > median else 0\n",
    "    print(f\"f1scoreDeltaLOO: {f1scoreDeltaLOO}\")\n",
    "\n",
    "#sort f1scoreDeltaLOO theo key\n",
    "f1scoreDeltaLOO = dict(sorted(f1scoreDeltaLOO.items(), key=lambda item: item[0]))\n",
    "sumF1scoreDelta = sum(f1scoreDeltaLOO.values())\n",
    "print(f\"sumF1scoreDelta: {sumF1scoreDelta}\")\n",
    "# Proof of performance (trả theo đóng góp - dựa trên delta)\n",
    "reward_scores_temp =   [(element / sumF1scoreDelta) * ( amount * 0.8 /rounds)  for element in f1scoreDeltaLOO.values()]\n",
    "print(f\"reward_scores_temp: {reward_scores_temp}\")\n",
    "\n",
    "# Proof of work (đồng đều, ai cũng được tiền)\n",
    "reward_scores =  np.full(\n",
    "  shape=numClient,\n",
    "  fill_value=amount * 0.2 / rounds*numClient,\n",
    "  dtype=np.float32\n",
    ")\n",
    "print(f\"reward_scores: {reward_scores}\")\n",
    "\n",
    "# Payoff of each client\n",
    "payoffByClient = [int(math.floor(x + y)) for x, y in zip(reward_scores_temp, reward_scores)]\n",
    "print(f\"sumPayoff: {payoffByClient}\")\n",
    "sumPayoff = sum(payoffByClient)\n",
    "print(f\"sumPayoff: {sumPayoff}\")"
   ]
  },
  {
   "cell_type": "code",
   "execution_count": 1,
   "metadata": {},
   "outputs": [
    {
     "name": "stdout",
     "output_type": "stream",
     "text": [
      "f1scoreDeltaLOO before: {2: -0.08480286336060372, 3: -0.06094931193456271, 1: -0.0469214110889411, 4: -0.01931377634944098, 5: 0.3777267063826664}\n",
      "f1scoreDeltaLOO after: {2: 0.0, 3: 0.0515719490956677, 1: 0.08190060646866092, 4: 0.14158897353851962, 5: 1.0}\n",
      "sumF1scoreDelta: 15\n",
      "reward_scores_temp: [13.333333333333334, 26.666666666666668, 40.0, 53.333333333333336, 66.66666666666666]\n",
      "reward_scores: [10. 10. 10. 10. 10.]\n",
      "sumPayoff: [23, 36, 50, 63, 76]\n",
      "sumPayoff: 248\n"
     ]
    }
   ],
   "source": [
    "from sklearn.preprocessing import MinMaxScaler\n",
    "import math\n",
    "import numpy as np\n",
    "amount = 500\n",
    "id=[2,1,3,5,4]\n",
    "value=[-0.08480286336060372, -0.0469214110889411, -0.06094931193456271, 0.3777267063826664, -0.01931377634944098]\n",
    "f1scoreDeltaLOO={id[i]:value[i] for i in range(len(id))}\n",
    "numClient = 5\n",
    "rounds = 2\n",
    "#sort f1scoreDeltaLOO theo value\n",
    "f1scoreDeltaLOO = dict(sorted(f1scoreDeltaLOO.items(), key=lambda item: item[1]))\n",
    "print(f\"f1scoreDeltaLOO before: {f1scoreDeltaLOO}\")\n",
    "#Minmax scaling các value trong f1scoreDeltaLOO\n",
    "scaler=MinMaxScaler()\n",
    "arr=scaler.fit_transform(np.array(list(f1scoreDeltaLOO.values())).reshape(-1,1)).reshape(-1)\n",
    "#Gán lại value cho f1scoreDeltaLOO\n",
    "f1scoreDeltaLOO={list(f1scoreDeltaLOO.keys())[i]:arr[i] for i in range(len(arr))}\n",
    "print(f\"f1scoreDeltaLOO after: {f1scoreDeltaLOO}\")\n",
    "if len([s for s in f1scoreDeltaLOO.values() if s < 0]) >= numClient/2:\n",
    "    # Trung vị\n",
    "    median = np.median(list(f1scoreDeltaLOO))\n",
    "    for i in f1scoreDeltaLOO:\n",
    "        # Nếu f1score của client i > median thì lấy tuyệt đối (để chút tính tiền chứ hiện tại đang âm)\n",
    "        # Ngược lại thì gán bằng 0 -> ko đc trả payoff\n",
    "        f1scoreDeltaLOO[i] = abs(f1scoreDeltaLOO[i]) if f1scoreDeltaLOO[i] > median else 0\n",
    "    print(f\"f1scoreDeltaLOO: {f1scoreDeltaLOO}\")\n",
    "\n",
    "#sort f1scoreDeltaLOO theo key\n",
    "f1scoreDeltaLOO = dict(sorted(f1scoreDeltaLOO.items(), key=lambda item: item[0]))\n",
    "sumF1scoreDelta = sum(f1scoreDeltaLOO)\n",
    "print(f\"sumF1scoreDelta: {sumF1scoreDelta}\")\n",
    "# Proof of performance (trả theo đóng góp - dựa trên delta)\n",
    "reward_scores_temp =   [(element / sumF1scoreDelta) * ( amount * 0.8 /rounds)  for element in f1scoreDeltaLOO]\n",
    "print(f\"reward_scores_temp: {reward_scores_temp}\")\n",
    "\n",
    "# Proof of work (đồng đều, ai cũng được tiền)\n",
    "reward_scores =  np.full(\n",
    "  shape=numClient,\n",
    "  fill_value=amount * 0.2 / (numClient*rounds),\n",
    "  dtype=np.float32\n",
    ")\n",
    "print(f\"reward_scores: {reward_scores}\")\n",
    "\n",
    "# Payoff of each client\n",
    "payoffByClient = [int(math.floor(x + y)) for x, y in zip(reward_scores_temp, reward_scores)]\n",
    "print(f\"sumPayoff: {payoffByClient}\")\n",
    "sumPayoff = sum(payoffByClient)\n",
    "print(f\"sumPayoff: {sumPayoff}\")"
   ]
  },
  {
   "cell_type": "code",
   "execution_count": 1,
   "metadata": {},
   "outputs": [
    {
     "name": "stdout",
     "output_type": "stream",
     "text": [
      "{'a': 4, 'b': 5}\n"
     ]
    }
   ],
   "source": [
    "arr={'a':1,'b':2}\n",
    "temp={'a':3,'b':3}\n",
    "#cộng dict temp vào arr, nếu key đã tồn tại thì cộng giá trị\n",
    "for key in temp:\n",
    "    if key in arr:\n",
    "        arr[key]+=temp[key]\n",
    "    else:\n",
    "        arr[key]=temp[key]\n",
    "print(arr)"
   ]
  }
 ],
 "metadata": {
  "kernelspec": {
   "display_name": "Python 3",
   "language": "python",
   "name": "python3"
  },
  "language_info": {
   "codemirror_mode": {
    "name": "ipython",
    "version": 3
   },
   "file_extension": ".py",
   "mimetype": "text/x-python",
   "name": "python",
   "nbconvert_exporter": "python",
   "pygments_lexer": "ipython3",
   "version": "3.10.0"
  }
 },
 "nbformat": 4,
 "nbformat_minor": 2
}
