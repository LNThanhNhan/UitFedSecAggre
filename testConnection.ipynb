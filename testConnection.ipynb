{
 "cells": [
  {
   "cell_type": "code",
   "execution_count": 1,
   "metadata": {},
   "outputs": [
    {
     "name": "stderr",
     "output_type": "stream",
     "text": [
      "D:\\Software\\Python\\lib\\site-packages\\web3\\__init__.py:2: UserWarning: pkg_resources is deprecated as an API. See https://setuptools.pypa.io/en/latest/pkg_resources.html. The pkg_resources package is slated for removal as early as 2025-11-30. Refrain from using this package or pin to Setuptools<81.\n",
      "  import pkg_resources\n"
     ]
    }
   ],
   "source": [
    "from web3 import Web3\n",
    "import json"
   ]
  },
  {
   "cell_type": "code",
   "execution_count": 2,
   "metadata": {},
   "outputs": [],
   "source": [
    "rpcServer = 'HTTP://127.0.0.1:7545'\n",
    "w3 = Web3(Web3.HTTPProvider(rpcServer))\n",
    "\n",
    "contributionSC = open('./Solidity/build/contracts/Reward.json')\n",
    "contributionData = json.load(contributionSC)\n",
    "contributionAbi = contributionData['abi']\n",
    "addressContribution = contributionData['networks']['5777']['address']\n",
    "contribution_contract_instance = w3.eth.contract(address=addressContribution, abi=contributionAbi)"
   ]
  },
  {
   "cell_type": "code",
   "execution_count": 3,
   "metadata": {},
   "outputs": [
    {
     "name": "stdout",
     "output_type": "stream",
     "text": [
      "0xae0a5a3Dbf8AB60f7B253514495f95C4574876d7 0\n",
      "0xE295e5D17dbae5FD80b4aBF64678aeA216a9D06d 0\n",
      "0x67e408fCD53738c39a94220e911204f3c90A787D 0\n",
      "0x4685B1D9c63717d7060ad689AF77Ba98dFc895E9 0\n",
      "0x36D38F3533690B71e1Cc60C9dAbd3A3543813596 0\n",
      "0xE2200280bd7bDc3bB44cA1Db822bBBF5766d358E 0\n",
      "0x30B5191b7AaF03BED8c50Ebb960B64529e688a74 0\n",
      "0x75caF2D330F75ea4b5d0c76067a218E2f0b82992 0\n"
     ]
    }
   ],
   "source": [
    "#check all account balance\n",
    "for i in range(1, 9):\n",
    "    account = w3.eth.accounts[i]\n",
    "    balance = contribution_contract_instance.functions.balanceOf(account).call()\n",
    "    print(account, balance)"
   ]
  },
  {
   "cell_type": "code",
   "execution_count": null,
   "metadata": {},
   "outputs": [],
   "source": [
    "#add all account balance 100\n",
    "for i in range(1, 9):\n",
    "    account = w3.eth.accounts[i]\n",
    "    contribution_contract_instance.functions.addBalance(account,100).transact({'from': w3.eth.accounts[0]})"
   ]
  }
 ],
 "metadata": {
  "kernelspec": {
   "display_name": "Python 3",
   "language": "python",
   "name": "python3"
  },
  "language_info": {
   "codemirror_mode": {
    "name": "ipython",
    "version": 3
   },
   "file_extension": ".py",
   "mimetype": "text/x-python",
   "name": "python",
   "nbconvert_exporter": "python",
   "pygments_lexer": "ipython3",
   "version": "3.10.0"
  }
 },
 "nbformat": 4,
 "nbformat_minor": 2
}
