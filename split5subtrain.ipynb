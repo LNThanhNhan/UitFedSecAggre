{
 "cells": [
  {
   "cell_type": "code",
   "execution_count": null,
   "metadata": {},
   "outputs": [],
   "source": [
    "import os\n",
    "import shutil\n",
    "\n",
    "# Thư mục gốc chứa tệp\n",
    "#Cấp folder 1\n",
    "source_folder = '../../classedExeImg'\n",
    "\n",
    "# Thư mục con cần chia \n",
    "#Cấp folder 1\n",
    "subfolder=['client1','client2','client3','client4','client5']\n",
    "\n",
    "#biết rằng cấu trúc thư mục con giống với cấu trúc thư mục gốc ở cấp 2 và 3\n",
    "#Cấp folder 2\n",
    "type=['train','test','valid']\n",
    "#Cấp folder 3\n",
    "folder=['Locker', 'Mediyes', 'Winwebsec', 'Zbot', 'Zeroaccess','benign']\n",
    "folder2=['Locker', 'Mediyes', 'Winwebsec', 'Zbot', 'Zeroaccess']"
   ]
  },
  {
   "cell_type": "markdown",
   "metadata": {},
   "source": [
    "## Gộp 2 folder "
   ]
  },
  {
   "cell_type": "code",
   "execution_count": null,
   "metadata": {},
   "outputs": [],
   "source": [
    "# combine_folder=['train','test']\n",
    "# #tạo thư mục temp để chứa tập dữ liệu\n",
    "# temp_folder = '../../classedExeImg/Temp'\n",
    "# if not os.path.exists(temp_folder):\n",
    "#     os.makedirs(temp_folder)\n",
    "# #gộp 2 tập dữ liệu train và test vào 1 thư mục temp\n",
    "# for dataset in combine_folder:\n",
    "#     for malware in folder:\n",
    "#         source_folder_path = source_folder+'/'+dataset+'/'+malware\n",
    "#         destination_folders = temp_folder+'/'+malware\n",
    "#         if not os.path.exists(destination_folders):\n",
    "#             os.makedirs(destination_folders)\n",
    "#         file_list = os.listdir(source_folder_path)\n",
    "#         for file in file_list:\n",
    "#             source_path = os.path.join(source_folder_path, file)\n",
    "#             dest_path = os.path.join(destination_folders, file)\n",
    "#             shutil.copy(source_path, dest_path)"
   ]
  },
  {
   "cell_type": "code",
   "execution_count": null,
   "metadata": {},
   "outputs": [],
   "source": [
    "benign_folder = '../../classedExeImg/Temp/benign'\n",
    "folder_move='../../classedExeImg/valid/benign'\n",
    "\n",
    "#Lấy ra 100 file benign để chuyển vào thư mục valid\n",
    "benign_file_list = os.listdir(benign_folder)\n",
    "for i in range(100):\n",
    "    source_path = os.path.join(benign_folder, benign_file_list[i])\n",
    "    dest_path = os.path.join(folder_move, benign_file_list[i])\n",
    "    shutil.move(source_path, dest_path)\n",
    "    print('Moved file:', benign_file_list[i])"
   ]
  },
  {
   "cell_type": "markdown",
   "metadata": {},
   "source": [
    "### Lấy folder được gộp và tiến hành chia ra làm 5 folder nhỏ với train/test tỉ lệ 9/1"
   ]
  },
  {
   "cell_type": "code",
   "execution_count": null,
   "metadata": {},
   "outputs": [],
   "source": [
    "temp_folder = '../../classedExeImg/Temp'\n",
    "for malware in folder:\n",
    "    source_folder_path = temp_folder+'/'+malware\n",
    "    file_list = os.listdir(source_folder_path)\n",
    "    #Chia tỉ lệ train/test là 9/1 từ file_list bằng train test split\n",
    "    train_length = int(len(file_list) * 0.9)\n",
    "    train_list = file_list[:train_length]\n",
    "    test_list = file_list[train_length:]\n",
    "    #Lấy số lượng mẫu dữ liệu train và test cho mỗi client\n",
    "    train_per_folder = len(train_list) // len(subfolder)\n",
    "    test_per_folder = len(test_list) // len(subfolder)\n",
    "    for client in subfolder:\n",
    "        #Tạo thư mục train và test cho mỗi client\n",
    "        des_folder=\"../../ClientData/\"\n",
    "        train_folder = des_folder+client+'/train/'+malware\n",
    "        test_folder = des_folder+client+'/test/'+malware\n",
    "        if not os.path.exists(train_folder):\n",
    "            os.makedirs(train_folder)\n",
    "        if not os.path.exists(test_folder):\n",
    "            os.makedirs(test_folder)\n",
    "        #Copy tập dữ liệu train và test vào thư mục của client\n",
    "        for i in range(train_per_folder):\n",
    "            file=train_list.pop(0)\n",
    "            source_path = os.path.join(source_folder_path, file)\n",
    "            dest_path = os.path.join(train_folder, file)\n",
    "            shutil.copy(source_path, dest_path)\n",
    "        for i in range(test_per_folder):\n",
    "            file=test_list.pop(0)\n",
    "            source_path = os.path.join(source_folder_path, file)\n",
    "            dest_path = os.path.join(test_folder, file)\n",
    "            shutil.copy(source_path, dest_path)"
   ]
  },
  {
   "cell_type": "markdown",
   "metadata": {},
   "source": [
    "## Chia dữ liệu non iid, 1 client có n class"
   ]
  },
  {
   "cell_type": "code",
   "execution_count": null,
   "metadata": {},
   "outputs": [],
   "source": [
    "temp_folder = '../../classedExeImg/Temp'\n",
    "target_folder = '../../NonIIDData'\n",
    "#1/ Cho 1 mảng chứa số lượng phần tử tương ứng với n class có trong 1 client\n",
    "#Ví dụ len(arr)=2 thì sẽ chia thành 2 class cho 1 client,\n",
    "\n",
    "#2/ Dựa vào len(arr) này ta sẽ lấy số lượng ảnh trong 1 class của temp_folder\n",
    "#Ví dụ len(arr)=n thì 1 client sẽ có được tối đa n class và \n",
    "#số lượng ảnh trong 1 class của client sẽ là len(số lượng ảnh trong 1 class của temp_folder)/n\n",
    "\n",
    "#3/ Mỗi phần tử trong mảng arr là mảng chứa class tương ứng cho folder 1 client\n",
    "#VD client 1 thì nếu len(arr[0])=2 thì client 1 sẽ có 2 class tương ứng\n",
    "#là arr[0][0] và arr[1][0], client 2 sẽ có 2 class tương ứng là arr[0][1] và arr[1][1]...\n",
    "#và giá trị bên trong mảng là chỉ số của class trong folder\n",
    "#0 là Locker, 1 là Mediyes, 2 là Winwebsec, 3 là Zbot, 4 là Zeroaccess\n",
    "arr=[\n",
    "    [0,1,2,3,4],\n",
    "    [4,0,1,2,3],\n",
    "]\n",
    "#Đầu tiên tạo ra các thư mục subfolder cho client trong target_folder\n",
    "#và không có train, test, valid mà chỉ có các class \n",
    "#và số lượng class trong mỗi client sẽ là len(arr)\n",
    "for client in subfolder:\n",
    "    for i in range(len(arr)):\n",
    "        client_folder = target_folder+'/'+client+'/'+folder[arr[i][subfolder.index(client)]]\n",
    "        if not os.path.exists(client_folder):\n",
    "            os.makedirs(client_folder)\n",
    "            \n",
    "#Sau đó chia ảnh cho client\n",
    "for malware in folder:\n",
    "    source_folder_path = temp_folder+'/'+malware\n",
    "    file_list = os.listdir(source_folder_path)\n",
    "    #Lấy số lượng ảnh cần chia cho client\n",
    "    client_length = len(file_list)  // len(arr)\n",
    "    for client in subfolder:\n",
    "        #Lấy ra tên các folder con trong thư mục của client\n",
    "        client_folder = target_folder+'/'+client\n",
    "        list_folder = os.listdir(client_folder)\n",
    "        #Kiểm tra xem client có chứa folder class đó không\n",
    "        if malware in list_folder:\n",
    "            print(list_folder)\n",
    "            #Chia ảnh cho client\n",
    "            for j in range(client_length):\n",
    "                file=file_list.pop(0)\n",
    "                source_path = os.path.join(source_folder_path, file)\n",
    "                dest_path = os.path.join(client_folder+'/'+malware, file)\n",
    "                shutil.copy(source_path, dest_path)\n",
    "            continue\n",
    "                "
   ]
  },
  {
   "cell_type": "code",
   "execution_count": 28,
   "metadata": {},
   "outputs": [
    {
     "name": "stdout",
     "output_type": "stream",
     "text": [
      "300 270 30\n"
     ]
    }
   ],
   "source": [
    "a=900//3\n",
    "b=round(a*0.9)\n",
    "c=a-b\n",
    "print(a,b,c)"
   ]
  },
  {
   "cell_type": "markdown",
   "metadata": {},
   "source": [
    "## Chia data cho detection"
   ]
  },
  {
   "cell_type": "code",
   "execution_count": 24,
   "metadata": {},
   "outputs": [],
   "source": [
    "def copy_files(temp_folder, client_folder,type, label, file):\n",
    "    source_path = os.path.join(temp_folder, file)\n",
    "    dir_path = os.path.join(client_folder+type+label)\n",
    "    if not os.path.exists(dir_path):\n",
    "        os.makedirs(dir_path)\n",
    "    dest_path = os.path.join(client_folder+type+label, file)\n",
    "    shutil.copy(source_path, dest_path)"
   ]
  },
  {
   "cell_type": "code",
   "execution_count": 27,
   "metadata": {},
   "outputs": [
    {
     "name": "stdout",
     "output_type": "stream",
     "text": [
      "8074\n"
     ]
    }
   ],
   "source": [
    "#Lấy ra tất cả các ảnh từ thư mục Temp chứa 5 class malware\n",
    "#Bỏ vào thư mục Malware (chỉ lấy ảnh bỏ vào thư mục Malware, không lấy folder bỏ vô)\n",
    "temp_folder = '../../classedExeImg/Malware'\n",
    "benign='../../classedExeImg/Temp/benign'\n",
    "\n",
    "#Lấy hết file ảnh từ thư mục temp và sort theo size\n",
    "#sau đó chia làm 3 phần, mỗi phần tương ứng với 1 client\n",
    "#trong đó tiếp tục lấy 3 phần đó, trong mỗi phần sẽ được chia theo tỉ lệ 9/1\n",
    "#với 9 phần là train và 1 phần là test (chia ra thành thư mục train và test)\n",
    "#Sau đó làm tương tự với thư mục benign\n",
    "#Cuối cùng sẽ được thư mục NonIIDDataDetect có 5 client \n",
    "# 2 folder client4,client5 chỉ chứa 1 class benign\n",
    "# 2 folder client1,client2 chỉ chứa các ảnh từ 5 class malware\n",
    "# 1 folder client3 chứa cả 5 class malware và 1 class benign\n",
    "#Với tỉ lệ 9/1\n",
    "\n",
    "target_folder = '../../NonIIDDataDetect'\n",
    "#tạo 5 thư mục client\n",
    "for client in subfolder:\n",
    "    client_folder = target_folder+'/'+client\n",
    "    if not os.path.exists(client_folder):\n",
    "        os.makedirs(client_folder)\n",
    "\n",
    "list_file = os.listdir(temp_folder)\n",
    "#Sắp xếp theo size\n",
    "list_file = sorted(list_file, key=lambda x: os.path.getsize(os.path.join(temp_folder, x)))\n",
    "#Sort theo size và chia làm 2 phần\n",
    "#phần đầu giữ lại, phần sau sort theo tên\n",
    "list_file_1 = list_file[int(len(list_file)/2):]\n",
    "list_file_2 = sorted(list_file[:int(len(list_file)/2)])\n",
    "list_file = list_file_1 + list_file_2\n",
    "print(len(list_file))\n",
    "#Chia thành 3 phần\n",
    "part_length = len(list_file) // 3\n",
    "part1 = list_file[:part_length]\n",
    "part2 = list_file[part_length:2*part_length]\n",
    "part3 = list_file[2*part_length:]\n",
    "#Chia thành 2 phần train và test\n",
    "train_length = int(part_length * 0.9)\n",
    "train1 = part1[:train_length]\n",
    "test1 = part1[train_length:]\n",
    "train2 = part2[:train_length]\n",
    "test2 = part2[train_length:]\n",
    "train3 = part3[:train_length]\n",
    "test3 = part3[train_length:]\n",
    "#Chia thành 2 phần benign và malware\n",
    "benign_list = os.listdir(benign)\n",
    "benign_length = len(benign_list) // 3\n",
    "benign1 = benign_list[:benign_length]\n",
    "benign2 = benign_list[benign_length:2*benign_length]\n",
    "benign3 = benign_list[2*benign_length:]\n",
    "#Chia thành 2 phần train và test\n",
    "train_benign_length = int(benign_length * 0.9)\n",
    "train_benign1 = benign1[:train_benign_length]\n",
    "test_benign1 = benign1[train_benign_length:]\n",
    "train_benign2 = benign2[:train_benign_length]\n",
    "test_benign2 = benign2[train_benign_length:]\n",
    "train_benign3 = benign3[:train_benign_length]\n",
    "test_benign3 = benign3[train_benign_length:]\n",
    "label=['/malware','/benign']\n",
    "#bỏ 3 phần malware vào 3 client client1,client2,client3\n",
    "for client in subfolder:\n",
    "    client_folder = target_folder+'/'+client\n",
    "    if not os.path.exists(client_folder+'/train'):\n",
    "        os.makedirs(client_folder+'/train')\n",
    "    if not os.path.exists(client_folder+'/test'):\n",
    "        os.makedirs(client_folder+'/test')\n",
    "    if client=='client1':\n",
    "        for file in train1:\n",
    "            copy_files(temp_folder, client_folder, '/train', label[0], file)\n",
    "        for file in test1:\n",
    "            copy_files(temp_folder, client_folder, '/test', label[0], file)\n",
    "    if client=='client2':\n",
    "        for file in train2:\n",
    "            copy_files(temp_folder, client_folder, '/train', label[0], file)\n",
    "        for file in test2:\n",
    "            copy_files(temp_folder, client_folder, '/test', label[0], file)\n",
    "    if client=='client3':\n",
    "        for file in train3:\n",
    "            copy_files(temp_folder, client_folder, '/train', label[0], file)\n",
    "        for file in test3:\n",
    "            copy_files(temp_folder, client_folder, '/test', label[0], file)\n",
    "        for file in train_benign1:\n",
    "            copy_files(benign, client_folder, '/train', label[1], file)\n",
    "        for file in test_benign1:\n",
    "            copy_files(benign, client_folder, '/test', label[1], file)\n",
    "    if client=='client4':\n",
    "        for file in train_benign2:\n",
    "            copy_files(benign, client_folder, '/train', label[1], file)\n",
    "        for file in test_benign2:\n",
    "            copy_files(benign, client_folder, '/test', label[1], file)\n",
    "    if client=='client5':\n",
    "        for file in train_benign3:\n",
    "            copy_files(benign, client_folder, '/train', label[1], file)\n",
    "        for file in test_benign3:\n",
    "            copy_files(benign, client_folder, '/test', label[1], file)"
   ]
  },
  {
   "cell_type": "markdown",
   "metadata": {},
   "source": [
    "### Lấy 3 folder train, test, valid tổng chia ra làm 5 phần bằng nhau"
   ]
  },
  {
   "cell_type": "code",
   "execution_count": null,
   "metadata": {},
   "outputs": [],
   "source": [
    "# for dataset in type:\n",
    "#     for malware in folder:\n",
    "#         source_folder_path = source_folder+'/'+dataset+'/'+malware\n",
    "#         #Lấy số lượng cần chia cho mỗi folder\n",
    "#         files_per_folder = len(os.listdir(source_folder_path)) // 5\n",
    "#         file_list = os.listdir(source_folder_path)\n",
    "#         for client in subfolder:\n",
    "#             destination_folders ='./FederatedData/'+client+'/'+dataset+'/'+malware\n",
    "#             if(client=='client5'):\n",
    "#                 files_per_folder = len(os.listdir(source_folder_path)) - (4 * files_per_folder)\n",
    "#             for _ in range(files_per_folder):\n",
    "#                 file = file_list.pop(0)\n",
    "#                 source_path = os.path.join(source_folder_path, file)\n",
    "#                 dest_path = os.path.join(destination_folders, file)\n",
    "#                 shutil.copy(source_path, dest_path)"
   ]
  }
 ],
 "metadata": {
  "kernelspec": {
   "display_name": "Python 3",
   "language": "python",
   "name": "python3"
  },
  "language_info": {
   "codemirror_mode": {
    "name": "ipython",
    "version": 3
   },
   "file_extension": ".py",
   "mimetype": "text/x-python",
   "name": "python",
   "nbconvert_exporter": "python",
   "pygments_lexer": "ipython3",
   "version": "3.10.11"
  },
  "orig_nbformat": 4
 },
 "nbformat": 4,
 "nbformat_minor": 2
}
